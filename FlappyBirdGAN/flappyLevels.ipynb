{
 "cells": [
  {
   "cell_type": "code",
   "execution_count": 619,
   "metadata": {},
   "outputs": [],
   "source": [
    "import numpy as np"
   ]
  },
  {
   "cell_type": "code",
   "execution_count": 620,
   "metadata": {},
   "outputs": [],
   "source": [
    "heightCol = 22\n",
    "heightPipeMin = 2\n",
    "heightPipeMax = 16\n",
    "heightGapMin = 2\n",
    "heightBoundaryTotal = 2\n",
    "lengthLevel = 25\n",
    "lengthEmptySpace = 5\n",
    "nLevels = 50\n",
    "pathLevels = \"./levels/\"\n"
   ]
  },
  {
   "cell_type": "code",
   "execution_count": 621,
   "metadata": {},
   "outputs": [],
   "source": [
    "tiles =  {\n",
    "    \"X\" : [\"solid\",\"ground\"],\n",
    "    \"S\" : [\"solid\",\"breakable\"],\n",
    "    \"-\" : [\"passable\",\"empty\"],\n",
    "    \"?\" : [\"solid\",\"question block\", \"full question block\"],\n",
    "    \"Q\" : [\"solid\",\"question block\", \"empty question block\"],\n",
    "    \"E\" : [\"enemy\",\"damaging\",\"hazard\",\"moving\"],\n",
    "    \"<\" : [\"solid\",\"top-left pipe\",\"pipe\"],\n",
    "    \">\" : [\"solid\",\"top-right pipe\",\"pipe\"],\n",
    "    \"[\" : [\"solid\",\"left pipe\",\"pipe\"],\n",
    "    \"]\" : [\"solid\",\"right pipe\",\"pipe\"],\n",
    "    \"o\" : [\"coin\",\"collectable\",\"passable\"]\n",
    "}"
   ]
  },
  {
   "cell_type": "code",
   "execution_count": 622,
   "metadata": {},
   "outputs": [],
   "source": [
    "def getEmptyTilesArray(length):\n",
    "    return getTilesArray(\"-\", length)\n",
    "\n",
    "def getTilesArray(tile, length):\n",
    "    return list(np.repeat(tile, length))\n",
    "\n",
    "def appendGroundAndSky(li):\n",
    "    return np.append(np.append(\"X\", li),\"X\")\n",
    "\n",
    "def getSolidTile(length):\n",
    "    solid = [\"X\"]\n",
    "    tile = []\n",
    "    for i in range(length):\n",
    "        tile = np.append(tile, solid)\n",
    "    return getCol(tile, 0)\n",
    "\n",
    "def getCol(li, dim=1):\n",
    "    return np.expand_dims(li, dim)"
   ]
  },
  {
   "cell_type": "code",
   "execution_count": 623,
   "metadata": {},
   "outputs": [],
   "source": [
    "def getEmptyCol(length=heightCol-2):\n",
    "    emptyCol = getEmptyTilesArray(length)\n",
    "    emptyCol = getCol(emptyCol)\n",
    "    return emptyCol\n",
    "\n",
    "def getEmptyCols(length):\n",
    "    emptyCol = getEmptyCol(length)\n",
    "    return np.append(emptyCol, emptyCol, 1)\n",
    "\n",
    "def getEmptyColsBounded():\n",
    "    empty = getEmptyCols(heightCol-2)\n",
    "    solid = getSolidTile(2)\n",
    "    return np.concatenate((solid, empty, solid))\n"
   ]
  },
  {
   "cell_type": "code",
   "execution_count": 624,
   "metadata": {},
   "outputs": [],
   "source": [
    "def getPipeBody(length, side):\n",
    "    pipeBody = \"\"\n",
    "    if side == \"left\":\n",
    "        pipeBody = \"[\"\n",
    "    elif side == \"right\":\n",
    "        pipeBody = \"]\"\n",
    "    return getTilesArray(pipeBody, length)\n",
    "\n",
    "def getPipeHead(side):\n",
    "    if side == \"left\":\n",
    "        return \"<\"\n",
    "    elif side == \"right\":\n",
    "        return \">\"\n",
    "    return \"\"\n",
    "\n",
    "def getPipeSide(side, direction=\"ascending\", length=\"4\"):\n",
    "    if direction == \"ascending\":\n",
    "        return getCol(np.append(getPipeHead(side), getPipeBody(length, side)))\n",
    "    elif direction == \"descending\":\n",
    "        return getCol(np.append(getPipeBody(length, side), getPipeHead(side)))\n",
    "    return []\n",
    "    \n",
    "def getPipe(direction=\"ascending\", length=5):\n",
    "    pipeLeft = getPipeSide(side=\"left\", direction=direction, length=length - 1)\n",
    "    pipeRight = getPipeSide(side=\"right\", direction=direction, length=length - 1)\n",
    "    return np.append(pipeLeft, pipeRight, 1)\n",
    "\n",
    "def getPipeCols():\n",
    "    [pipeHeight, gapHeight] = getRandPipeAndGapHeight()\n",
    "    pipeBottom = getPipe(\"ascending\", pipeHeight)\n",
    "    pipeGap = getEmptyCols(gapHeight)\n",
    "    heightPipeTop = heightCol - gapHeight - pipeHeight - heightBoundaryTotal\n",
    "    pipeTop = getPipe(\"descending\", heightPipeTop)\n",
    "    boundary = getSolidTile(2)\n",
    "    return np.concatenate((boundary, pipeTop, pipeGap, pipeBottom, boundary), axis=0)\n",
    "\n",
    "def getRandPipeAndGapHeight():\n",
    "    heightPipe = np.random.randint(heightPipeMin,(heightPipeMax + 1))\n",
    "    boundGapHigh = heightCol - heightPipe - heightPipeMin - heightPipeMin\n",
    "    heightGap = np.random.randint(heightGapMin, (boundGapHigh + 1))\n",
    "    return (heightPipe, heightGap)\n",
    "\n",
    "\n"
   ]
  },
  {
   "cell_type": "code",
   "execution_count": 625,
   "metadata": {},
   "outputs": [],
   "source": [
    "def getLevelBlock():\n",
    "    pipe = getPipeCols()\n",
    "    empty = getEmptyColsBounded()\n",
    "    return np.concatenate((empty, empty, empty, pipe), 1)\n",
    "\n",
    "def getLevelBlocks(length):\n",
    "    emptyBlock = getEmptyColsBounded()\n",
    "    levelBlock = emptyBlock\n",
    "    # add empty space for the beginning of the level\n",
    "    for _ in range(lengthEmptySpace - 1):\n",
    "        levelBlock = np.concatenate((levelBlock, emptyBlock), 1)\n",
    "    for _ in range(length):\n",
    "        levelBlock = np.concatenate((levelBlock, getLevelBlock()), 1)\n",
    "    # add empty space for the ending of the level\n",
    "    for _ in range(lengthEmptySpace):\n",
    "        levelBlock = np.concatenate((levelBlock, emptyBlock), 1)\n",
    "    return levelBlock\n",
    "\n",
    "def getLevel(length = lengthLevel):\n",
    "    return getLevelBlocks(length)"
   ]
  },
  {
   "cell_type": "code",
   "execution_count": 626,
   "metadata": {},
   "outputs": [
    {
     "name": "stdout",
     "output_type": "stream",
     "text": [
      "[['X' 'X' 'X' ... 'X' 'X' 'X']\n",
      " ['-' '-' '-' ... '-' '-' '-']\n",
      " ['-' '-' '-' ... '-' '-' '-']\n",
      " ...\n",
      " ['-' '-' '-' ... '-' '-' '-']\n",
      " ['-' '-' '-' ... '-' '-' '-']\n",
      " ['X' 'X' 'X' ... 'X' 'X' 'X']]\n"
     ]
    }
   ],
   "source": [
    "level = getLevel()\n",
    "print(level)\n",
    "np.savetxt(\"level.txt\", level, fmt=\"%s\")"
   ]
  },
  {
   "cell_type": "code",
   "execution_count": 627,
   "metadata": {},
   "outputs": [],
   "source": [
    "\n",
    "for nLevel in range(1, nLevels + 1):\n",
    "    level = getLevel()\n",
    "    fileName = pathLevels + \"level_%03d.txt\" % nLevel\n",
    "    np.savetxt(fileName, level, fmt=\"%s\")\n"
   ]
  },
  {
   "cell_type": "code",
   "execution_count": null,
   "metadata": {},
   "outputs": [],
   "source": []
  },
  {
   "cell_type": "code",
   "execution_count": null,
   "metadata": {},
   "outputs": [],
   "source": []
  },
  {
   "cell_type": "code",
   "execution_count": null,
   "metadata": {},
   "outputs": [],
   "source": []
  }
 ],
 "metadata": {
  "interpreter": {
   "hash": "cd041d5cfd02260b81058256835deb607b117cf6b00b19b51ddf68f48ed7a369"
  },
  "kernelspec": {
   "display_name": "Python [conda env:tf]",
   "language": "python",
   "name": "python3"
  },
  "language_info": {
   "codemirror_mode": {
    "name": "ipython",
    "version": 3
   },
   "file_extension": ".py",
   "mimetype": "text/x-python",
   "name": "python",
   "nbconvert_exporter": "python",
   "pygments_lexer": "ipython3",
   "version": "3.8.11"
  }
 },
 "nbformat": 4,
 "nbformat_minor": 4
}
